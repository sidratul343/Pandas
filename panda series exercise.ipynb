{
 "cells": [
  {
   "cell_type": "code",
   "execution_count": 2,
   "metadata": {},
   "outputs": [
    {
     "data": {
      "text/plain": [
       "0    1\n",
       "1    2\n",
       "2    3\n",
       "3    4\n",
       "4    5\n",
       "dtype: int64"
      ]
     },
     "execution_count": 2,
     "metadata": {},
     "output_type": "execute_result"
    }
   ],
   "source": [
    "#  1. Write a Pandas program to create and display a one-dimensional array-like object containing an array of data using Pandas\n",
    "# module.\n",
    "\n",
    "import pandas as pd\n",
    "\n",
    "a = [1,2,3,4,5]\n",
    "b = pd.Series(a)\n",
    "b"
   ]
  },
  {
   "cell_type": "code",
   "execution_count": 13,
   "metadata": {},
   "outputs": [
    {
     "name": "stdout",
     "output_type": "stream",
     "text": [
      "0    1\n",
      "1    2\n",
      "2    3\n",
      "3    4\n",
      "4    5\n",
      "dtype: int64\n",
      "<class 'pandas.core.series.Series'>\n",
      "[1, 2, 3, 4, 5]\n",
      "<class 'list'>\n"
     ]
    }
   ],
   "source": [
    "# 2. Write a Pandas program to convert a Panda module Series to Python list and it's type. \n",
    "\n",
    "print(b)\n",
    "print(type(b))\n",
    "print(b.tolist())  #converting series to list\n",
    "print(type(b.tolist()))"
   ]
  },
  {
   "cell_type": "code",
   "execution_count": 18,
   "metadata": {},
   "outputs": [
    {
     "name": "stdout",
     "output_type": "stream",
     "text": [
      "0     7.0\n",
      "1     9.0\n",
      "2    11.0\n",
      "3    13.0\n",
      "4     NaN\n",
      "dtype: float64\n",
      "0   -5.0\n",
      "1   -5.0\n",
      "2   -5.0\n",
      "3   -5.0\n",
      "4    NaN\n",
      "dtype: float64\n",
      "0     6.0\n",
      "1    14.0\n",
      "2    24.0\n",
      "3    36.0\n",
      "4     NaN\n",
      "dtype: float64\n",
      "0    6.000000\n",
      "1    3.500000\n",
      "2    2.666667\n",
      "3    2.250000\n",
      "4         NaN\n",
      "dtype: float64\n"
     ]
    }
   ],
   "source": [
    "# 3. Write a Pandas program to add, subtract, multiple and divide two Pandas Series.\n",
    "x = pd.Series([1,2,3,4,5])\n",
    "y = pd.Series([6,7,8,9])\n",
    "\n",
    "print(x+y)\n",
    "print(x-y)\n",
    "print(x*y)\n",
    "print(y/x)"
   ]
  },
  {
   "cell_type": "code",
   "execution_count": 26,
   "metadata": {},
   "outputs": [
    {
     "name": "stdout",
     "output_type": "stream",
     "text": [
      "0    False\n",
      "1    False\n",
      "2     True\n",
      "3    False\n",
      "4    False\n",
      "dtype: bool\n",
      "0    False\n",
      "1     True\n",
      "2    False\n",
      "3     True\n",
      "4     True\n",
      "dtype: bool\n",
      "0     True\n",
      "1    False\n",
      "2    False\n",
      "3    False\n",
      "4    False\n",
      "dtype: bool\n"
     ]
    }
   ],
   "source": [
    "# 4. Write a Pandas program to compare the elements of the two Pandas Series\n",
    "\n",
    "a = pd.Series([1,5,2,3,6])\n",
    "b = pd.Series([3,1,2,2,5])\n",
    "\n",
    "print(a == b)\n",
    "print(a > b)\n",
    "print(a < b)"
   ]
  },
  {
   "cell_type": "code",
   "execution_count": 27,
   "metadata": {},
   "outputs": [
    {
     "data": {
      "text/plain": [
       "name        Tuba\n",
       "age           23\n",
       "gender    female\n",
       "dtype: object"
      ]
     },
     "execution_count": 27,
     "metadata": {},
     "output_type": "execute_result"
    }
   ],
   "source": [
    "# 5. Write a Pandas program to convert a dictionary to a Pandas series.\n",
    "\n",
    "a = {'name':'Tuba','age':23,'gender':'female'}\n",
    "pd.Series(a)"
   ]
  },
  {
   "cell_type": "code",
   "execution_count": 30,
   "metadata": {},
   "outputs": [
    {
     "data": {
      "text/plain": [
       "0    1\n",
       "1    2\n",
       "2    3\n",
       "3    4\n",
       "4    5\n",
       "dtype: int32"
      ]
     },
     "execution_count": 30,
     "metadata": {},
     "output_type": "execute_result"
    }
   ],
   "source": [
    "# 6. Write a Pandas program to convert a NumPy array to a Pandas series.\n",
    "\n",
    "import numpy as np\n",
    "b = np.array([1,2,3,4,5])\n",
    "pd.Series(b)"
   ]
  },
  {
   "cell_type": "code",
   "execution_count": 36,
   "metadata": {},
   "outputs": [
    {
     "name": "stdout",
     "output_type": "stream",
     "text": [
      "0       1\n",
      "1    Tuba\n",
      "2       5\n",
      "3     3.5\n",
      "4    food\n",
      "dtype: object\n"
     ]
    },
    {
     "data": {
      "text/plain": [
       "0    1.0\n",
       "1    NaN\n",
       "2    5.0\n",
       "3    3.5\n",
       "4    NaN\n",
       "dtype: float64"
      ]
     },
     "execution_count": 36,
     "metadata": {},
     "output_type": "execute_result"
    }
   ],
   "source": [
    "# 7. Write a Pandas program to change the data type of given a column or a Series.\n",
    "\n",
    "m = pd.Series([1,'Tuba',5,3.5,'food'])\n",
    "print(m)\n",
    "b = pd.to_numeric(m, errors='coerce')\n",
    "b"
   ]
  },
  {
   "cell_type": "code",
   "execution_count": 49,
   "metadata": {},
   "outputs": [
    {
     "name": "stdout",
     "output_type": "stream",
     "text": [
      "  name  age\n",
      "0    x   12\n",
      "1    y   22\n",
      "2    z   13\n",
      "0    x\n",
      "1    y\n",
      "2    z\n",
      "Name: name, dtype: object\n",
      "<class 'pandas.core.series.Series'>\n"
     ]
    }
   ],
   "source": [
    "# 8. Write a Pandas program to convert the first column of a DataFrame as a Series. \n",
    "\n",
    "a = [{'name':'x','age':12},{'name':'y','age':22},{'name':'z','age':13}]\n",
    "b = pd.DataFrame(a)\n",
    "print(b)\n",
    "c = b[\"name\"]\n",
    "d = pd.Series(c)\n",
    "print(d)\n",
    "print(type(d))"
   ]
  },
  {
   "cell_type": "code",
   "execution_count": 51,
   "metadata": {},
   "outputs": [
    {
     "name": "stdout",
     "output_type": "stream",
     "text": [
      "name        Tuba\n",
      "age           23\n",
      "gender    female\n",
      "dtype: object\n",
      "['Tuba' 23 'female']\n",
      "<class 'numpy.ndarray'>\n"
     ]
    }
   ],
   "source": [
    "# 9. Write a Pandas program to convert a given Series to an array. \n",
    "\n",
    "a = {'name':'Tuba','age':23,'gender':'female'}\n",
    "b = pd.Series(a)\n",
    "print(b)\n",
    "c = np.array(b)\n",
    "print(c)\n",
    "print(type(c))"
   ]
  },
  {
   "cell_type": "code",
   "execution_count": 56,
   "metadata": {},
   "outputs": [
    {
     "name": "stdout",
     "output_type": "stream",
     "text": [
      "0    [1, 2, 3]\n",
      "1       [3, 4]\n",
      "2    [6, 7, 8]\n",
      "dtype: object\n",
      "0    1.0\n",
      "1    2.0\n",
      "2    3.0\n",
      "3    3.0\n",
      "4    4.0\n",
      "5    6.0\n",
      "6    7.0\n",
      "7    8.0\n",
      "dtype: float64\n"
     ]
    }
   ],
   "source": [
    "# 10. Write a Pandas program to convert Series of lists to one Series.\n",
    "\n",
    "a = [[1,2,3],[3,4],[6,7,8]]\n",
    "s = pd.Series(a)\n",
    "print(s)\n",
    "s = s.apply(pd.Series).stack().reset_index(drop=True)\n",
    "print(s)"
   ]
  },
  {
   "cell_type": "code",
   "execution_count": 11,
   "metadata": {},
   "outputs": [
    {
     "name": "stdout",
     "output_type": "stream",
     "text": [
      "0     5.0\n",
      "1     1.0\n",
      "2     8.0\n",
      "3    10.8\n",
      "4     0.0\n",
      "dtype: float64\n",
      "4     0.0\n",
      "1     1.0\n",
      "0     5.0\n",
      "2     8.0\n",
      "3    10.8\n",
      "dtype: float64\n",
      "3    10.8\n",
      "2     8.0\n",
      "0     5.0\n",
      "1     1.0\n",
      "4     0.0\n",
      "dtype: float64\n"
     ]
    }
   ],
   "source": [
    "# 11. Write a Pandas program to sort a given Series\n",
    "import pandas as pd\n",
    "s = pd.Series([5,1,8,10.8,0])\n",
    "print(s)\n",
    "sorted_series = s.sort_values(ascending= True) #ascending order\n",
    "print(sorted_series)\n",
    "sorted_series = s.sort_values(ascending= False) #descending order\n",
    "print(sorted_series)"
   ]
  },
  {
   "cell_type": "code",
   "execution_count": 14,
   "metadata": {},
   "outputs": [
    {
     "name": "stdout",
     "output_type": "stream",
     "text": [
      "0    1\n",
      "1    2\n",
      "2    3\n",
      "3    4\n",
      "4    5\n",
      "dtype: int64\n",
      "0       1\n",
      "1       2\n",
      "2       3\n",
      "3       4\n",
      "4       5\n",
      "0       0\n",
      "1       9\n",
      "2    tuba\n",
      "dtype: object\n"
     ]
    }
   ],
   "source": [
    "# 12. Write a Pandas program to add some data to an existing Series.\n",
    "\n",
    "a = pd.Series([1,2,3,4,5])\n",
    "print(a)\n",
    "b = a.append(pd.Series([0,9,'tuba']))\n",
    "print(b)"
   ]
  },
  {
   "cell_type": "code",
   "execution_count": 18,
   "metadata": {},
   "outputs": [
    {
     "name": "stdout",
     "output_type": "stream",
     "text": [
      "0    4\n",
      "1    1\n",
      "2    7\n",
      "3    2\n",
      "4    9\n",
      "5    0\n",
      "6    4\n",
      "7    5\n",
      "dtype: int64\n",
      "1    1\n",
      "2    7\n",
      "3    2\n",
      "4    9\n",
      "5    0\n",
      "dtype: int64\n",
      "0    4\n",
      "1    1\n",
      "3    2\n",
      "5    0\n",
      "6    4\n",
      "7    5\n",
      "dtype: int64\n"
     ]
    }
   ],
   "source": [
    "# 13. Write a Pandas program to create a subset of a given series based on value and condition.\n",
    "\n",
    "s = pd.Series([4,1,7,2,9,0,4,5])\n",
    "n = 7\n",
    "print(s)\n",
    "print(s[1:6])\n",
    "print(s[s<n]) # numbers those are less than 7"
   ]
  },
  {
   "cell_type": "code",
   "execution_count": 21,
   "metadata": {},
   "outputs": [
    {
     "name": "stdout",
     "output_type": "stream",
     "text": [
      "a    5\n",
      "b    1\n",
      "c    2\n",
      "d    8\n",
      "e    5\n",
      "dtype: int64\n",
      "e    5\n",
      "a    5\n",
      "d    8\n",
      "c    2\n",
      "b    1\n",
      "dtype: int64\n"
     ]
    }
   ],
   "source": [
    "# 14. Write a Pandas program to change the order of index of a given series.\n",
    "\n",
    "s = pd.Series([5,1,2,8,5], index = ['a','b','c','d','e'])\n",
    "print(s)\n",
    "y = s.reindex(index = ['e','a','d','c','b'])\n",
    "print(y)"
   ]
  },
  {
   "cell_type": "code",
   "execution_count": 22,
   "metadata": {},
   "outputs": [
    {
     "name": "stdout",
     "output_type": "stream",
     "text": [
      "0    4\n",
      "1    1\n",
      "2    7\n",
      "3    2\n",
      "4    9\n",
      "5    0\n",
      "6    4\n",
      "7    5\n",
      "dtype: int64\n",
      "4.0\n",
      "3.0237157840738176\n"
     ]
    }
   ],
   "source": [
    "# 15. Write a Pandas program to create the mean and standard deviation of the data of a given\n",
    "\n",
    "s = pd.Series([4,1,7,2,9,0,4,5])\n",
    "print(s)\n",
    "print(s.mean())\n",
    "print(s.std())"
   ]
  },
  {
   "cell_type": "code",
   "execution_count": 23,
   "metadata": {},
   "outputs": [
    {
     "name": "stdout",
     "output_type": "stream",
     "text": [
      "1    1\n",
      "4    9\n",
      "7    5\n",
      "dtype: int64\n"
     ]
    }
   ],
   "source": [
    "# 16. Write a Pandas program to get the items of a given series not present in another given series.\n",
    "\n",
    "s = pd.Series([4,1,7,2,9,0,4,5])\n",
    "s2 = pd.Series([4,2,0,6,7,81])\n",
    "\n",
    "result = s[~s.isin(s2)]\n",
    "print(result)"
   ]
  },
  {
   "cell_type": "code",
   "execution_count": 29,
   "metadata": {},
   "outputs": [
    {
     "name": "stdout",
     "output_type": "stream",
     "text": [
      "0     0\n",
      "1     1\n",
      "2     2\n",
      "3     4\n",
      "4     5\n",
      "5     6\n",
      "6     7\n",
      "7     9\n",
      "8    81\n",
      "dtype: int64\n",
      "0    0\n",
      "1    2\n",
      "2    4\n",
      "3    7\n",
      "dtype: int64\n",
      "1     1\n",
      "4     5\n",
      "5     6\n",
      "7     9\n",
      "8    81\n",
      "dtype: int64\n"
     ]
    }
   ],
   "source": [
    "# 17. Write a Pandas program to get the items which are not common of two given series.\n",
    "import numpy as np\n",
    "s1 = pd.Series([4,1,7,2,9,0,4,5])\n",
    "s2 = pd.Series([4,2,0,6,7,81])\n",
    "\n",
    "s11 = pd.Series(np.union1d(s1,s2))  # union of s1 and s2\n",
    "s22 = pd.Series(np.intersect1d(s1,s2)) # the numbers which are common in s1 and s2\n",
    "res = s11[~s11.isin(s22)] #the numbers which are uncommon\n",
    "\n",
    "print(s11)\n",
    "print(s22)\n",
    "print(res)"
   ]
  },
  {
   "cell_type": "code",
   "execution_count": 32,
   "metadata": {},
   "outputs": [
    {
     "name": "stdout",
     "output_type": "stream",
     "text": [
      "0     5\n",
      "1     2\n",
      "2     7\n",
      "3     4\n",
      "4     4\n",
      "5     5\n",
      "6     8\n",
      "7     9\n",
      "8     3\n",
      "9     6\n",
      "10    9\n",
      "11    2\n",
      "12    0\n",
      "13    4\n",
      "14    6\n",
      "15    1\n",
      "16    9\n",
      "17    0\n",
      "18    1\n",
      "19    5\n",
      "20    7\n",
      "21    5\n",
      "22    7\n",
      "23    9\n",
      "24    7\n",
      "25    8\n",
      "26    8\n",
      "27    5\n",
      "28    5\n",
      "29    9\n",
      "dtype: int32\n",
      "5    6\n",
      "9    5\n",
      "7    4\n",
      "8    3\n",
      "4    3\n",
      "6    2\n",
      "2    2\n",
      "1    2\n",
      "0    2\n",
      "3    1\n",
      "dtype: int64\n"
     ]
    }
   ],
   "source": [
    "# 19. Write a Pandas program to calculate the frequency counts of each unique value of a given series.\n",
    "\n",
    "import pandas as ps\n",
    "import numpy as np\n",
    "\n",
    "number = pd.Series(np.random.randint(10,size=30))  # an array where values<10 and the size of the array is 30\n",
    "print(number)\n",
    "unique = number.value_counts()  # counting the frequency\n",
    "print(unique)"
   ]
  },
  {
   "cell_type": "code",
   "execution_count": 8,
   "metadata": {},
   "outputs": [
    {
     "name": "stdout",
     "output_type": "stream",
     "text": [
      "2       5\n",
      "3      10\n",
      "4      15\n",
      "6     120\n",
      "10     80\n",
      "dtype: int64\n",
      "[2, 3, 4, 6, 10]\n"
     ]
    }
   ],
   "source": [
    "# 21. Write a Pandas program to find the positions of numbers that are multiples of 5 of a given series.\n",
    "\n",
    "s = pd.Series([4,18,5,10,15,6,120,67,2,14,80])\n",
    "a = pd.Series(s[s%5==0])  # checking the condition\n",
    "print(a)\n",
    "print(list(a[:].index)) # way to fetch the index"
   ]
  },
  {
   "cell_type": "code",
   "execution_count": 28,
   "metadata": {},
   "outputs": [
    {
     "name": "stdout",
     "output_type": "stream",
     "text": [
      "0       4\n",
      "1      18\n",
      "2       5\n",
      "3      10\n",
      "4      15\n",
      "5       6\n",
      "6     120\n",
      "7      67\n",
      "8       2\n",
      "9      14\n",
      "10     80\n",
      "dtype: int64\n",
      "1    18\n",
      "3    10\n",
      "5     6\n",
      "7    67\n",
      "dtype: int64\n"
     ]
    }
   ],
   "source": [
    "# 22. Write a Pandas program to extract items at given positions of a given series.\n",
    "\n",
    "s = pd.Series([4,18,5,10,15,6,120,67,2,14,80])\n",
    "print(s)\n",
    "i = [1,3,5,7]\n",
    "a = s.take(i)\n",
    "print(a)"
   ]
  },
  {
   "cell_type": "code",
   "execution_count": 23,
   "metadata": {},
   "outputs": [
    {
     "name": "stdout",
     "output_type": "stream",
     "text": [
      "[0, 1, 2, 3, 4, 5, 8, 9]\n"
     ]
    }
   ],
   "source": [
    "# 23. Write a Pandas program to get the positions of items of a given series in another given series.\n",
    "\n",
    "import pandas as pd\n",
    "s = pd.Series([4,18,5,10,15,6,120,67,2,14,80])\n",
    "s2 = pd.Series([4,18,5,10,15,6,2,14])\n",
    "print([pd.Index(s).get_loc(i) for i in s2])   #for getting the index"
   ]
  },
  {
   "cell_type": "code",
   "execution_count": 28,
   "metadata": {},
   "outputs": [
    {
     "name": "stdout",
     "output_type": "stream",
     "text": [
      "3\n"
     ]
    }
   ],
   "source": [
    "s = pd.Series([4,18,5,10,15,6,120,67,2,14,80])\n",
    "print(pd.Index(s).get_loc(10))"
   ]
  },
  {
   "cell_type": "code",
   "execution_count": 19,
   "metadata": {},
   "outputs": [
    {
     "name": "stdout",
     "output_type": "stream",
     "text": [
      "['AbC', 'DeF', 'SdF', 'QzcV', 'KjaS']\n"
     ]
    }
   ],
   "source": [
    "# 24. Write a Pandas program convert the first and last character of each word to upper case in each word of a given series.\n",
    "\n",
    "import pandas as pd\n",
    "s1 = pd.Series(['abc','def','sdf','qzcv','kjas'])\n",
    "\n",
    "res = map(lambda x: x[0].upper()+x[1:-1]+x[-1].upper(),s1)\n",
    "print(list(res))"
   ]
  },
  {
   "cell_type": "code",
   "execution_count": 12,
   "metadata": {},
   "outputs": [
    {
     "name": "stdout",
     "output_type": "stream",
     "text": [
      "['Aa', 'Ba']\n"
     ]
    }
   ],
   "source": [
    "s = ['a','b']\n",
    "a = map(lambda x: x.upper()+'a', s)\n",
    "print(list(a))"
   ]
  },
  {
   "cell_type": "code",
   "execution_count": 20,
   "metadata": {},
   "outputs": [
    {
     "name": "stdout",
     "output_type": "stream",
     "text": [
      "[3, 3, 3, 4, 4]\n"
     ]
    }
   ],
   "source": [
    "# 25. Write a Pandas program to calculate the number of characters in each word in a given series.\n",
    "\n",
    "s1 = pd.Series(['abc','def','sdf','qzcv','kjas'])\n",
    "res = map(lambda x: len(x),s1)\n",
    "print(list(res))"
   ]
  },
  {
   "cell_type": "code",
   "execution_count": 25,
   "metadata": {},
   "outputs": [
    {
     "name": "stdout",
     "output_type": "stream",
     "text": [
      "0    1\n",
      "1    5\n",
      "2    3\n",
      "dtype: int64\n",
      "[nan, 4.0, -2.0]\n",
      "[nan, nan, -6.0]\n"
     ]
    }
   ],
   "source": [
    "# 26. Write a Pandas program to compute difference of differences between consecutive numbers of a given series.\n",
    "\n",
    "s = pd.Series([1,5,3])\n",
    "print(s)\n",
    "print(s.diff().tolist())   # tolist() converts scalar values in list\n",
    "print(list(s.diff().diff()))  # diff() finds the difference between a row and its previous row"
   ]
  },
  {
   "cell_type": "code",
   "execution_count": 27,
   "metadata": {},
   "outputs": [
    {
     "name": "stdout",
     "output_type": "stream",
     "text": [
      "0         01 Jan 2015\n",
      "1          10-02-2016\n",
      "2            20180307\n",
      "3          2014/05/06\n",
      "4          2016-04-12\n",
      "5    2019-04-06T11:20\n",
      "dtype: object\n",
      "0   2015-01-01 00:00:00\n",
      "1   2016-10-02 00:00:00\n",
      "2   2018-03-07 00:00:00\n",
      "3   2014-05-06 00:00:00\n",
      "4   2016-04-12 00:00:00\n",
      "5   2019-04-06 11:20:00\n",
      "dtype: datetime64[ns]\n"
     ]
    }
   ],
   "source": [
    "# 27. Write a Pandas program to convert a series of date strings to a timeseries\n",
    "date = pd.Series(['01 Jan 2015', '10-02-2016', '20180307', '2014/05/06', '2016-04-12', '2019-04-06T11:20'])\n",
    "print(date)\n",
    "print(pd.to_datetime(date)) # converts into date time"
   ]
  },
  {
   "cell_type": "code",
   "execution_count": 41,
   "metadata": {},
   "outputs": [
    {
     "name": "stdout",
     "output_type": "stream",
     "text": [
      "0   2015-01-01 00:00:00\n",
      "1   2016-10-02 00:00:00\n",
      "2   2018-03-07 00:00:00\n",
      "3   2014-05-06 00:00:00\n",
      "4   2016-04-12 00:00:00\n",
      "5   2019-04-06 11:20:00\n",
      "dtype: datetime64[ns]\n",
      "[1, 2, 7, 6, 12, 6]\n"
     ]
    }
   ],
   "source": [
    "# 28. Write a Pandas program to get the day of month, day of year, week number and day of week from a given series \n",
    "\n",
    "from dateutil.parser import parse\n",
    "date = pd.Series(['01 Jan 2015', '10-02-2016', '20180307', '2014/05/06', '2016-04-12', '2019-04-06T11:20'])\n",
    "s = date.map(lambda x:parse(x))\n",
    "print(s)\n",
    "print(list(s.dt.day))\n"
   ]
  },
  {
   "cell_type": "code",
   "execution_count": 37,
   "metadata": {},
   "outputs": [
    {
     "name": "stdout",
     "output_type": "stream",
     "text": [
      "0         01 Jan 2015\n",
      "1          10-02-2016\n",
      "2            20180307\n",
      "3          2014/05/06\n",
      "4          2016-04-12\n",
      "5    2019-04-06T11:20\n",
      "dtype: object\n",
      "[1, 2, 7, 6, 12, 6]\n",
      "[1, 276, 66, 126, 103, 96]\n"
     ]
    }
   ],
   "source": [
    "# 28. Write a Pandas program to get the day of month, day of year, week number and day of week from a given series \n",
    "\n",
    "\n",
    "date = pd.Series(['01 Jan 2015', '10-02-2016', '20180307', '2014/05/06', '2016-04-12', '2019-04-06T11:20'])\n",
    "print(date)\n",
    "c = pd.to_datetime(date)\n",
    "print(list(c.dt.day))\n",
    "print(list(s.dt.dayofyear))\n",
    "print(list(s.dt.weekofyear))"
   ]
  },
  {
   "cell_type": "code",
   "execution_count": null,
   "metadata": {},
   "outputs": [],
   "source": []
  }
 ],
 "metadata": {
  "kernelspec": {
   "display_name": "Python 3",
   "language": "python",
   "name": "python3"
  },
  "language_info": {
   "codemirror_mode": {
    "name": "ipython",
    "version": 3
   },
   "file_extension": ".py",
   "mimetype": "text/x-python",
   "name": "python",
   "nbconvert_exporter": "python",
   "pygments_lexer": "ipython3",
   "version": "3.8.3"
  }
 },
 "nbformat": 4,
 "nbformat_minor": 4
}
